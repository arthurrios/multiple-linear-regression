{
 "cells": [
  {
   "cell_type": "code",
   "execution_count": 1,
   "metadata": {},
   "outputs": [],
   "source": [
    "import pandas as pd\n",
    "import seaborn as sns\n",
    "import matplotlib.pyplot as plt"
   ]
  },
  {
   "cell_type": "code",
   "execution_count": 4,
   "metadata": {},
   "outputs": [],
   "source": [
    "# Load file\n",
    "df_cholesterol = pd.read_csv('./datasets/cholesterol_dataset.csv')"
   ]
  },
  {
   "cell_type": "code",
   "execution_count": 10,
   "metadata": {},
   "outputs": [
    {
     "name": "stdout",
     "output_type": "stream",
     "text": [
      "<class 'pandas.core.frame.DataFrame'>\n",
      "RangeIndex: 1000 entries, 0 to 999\n",
      "Data columns (total 7 columns):\n",
      " #   Column             Non-Null Count  Dtype  \n",
      "---  ------             --------------  -----  \n",
      " 0   blood_type         996 non-null    object \n",
      " 1   smoker             997 non-null    object \n",
      " 2   activity_level     996 non-null    object \n",
      " 3   age                997 non-null    float64\n",
      " 4   weight             997 non-null    float64\n",
      " 5   height             997 non-null    float64\n",
      " 6   cholesterol_level  1000 non-null   float64\n",
      "dtypes: float64(4), object(3)\n",
      "memory usage: 54.8+ KB\n"
     ]
    }
   ],
   "source": [
    "# Check file\n",
    "df_cholesterol.info()"
   ]
  },
  {
   "cell_type": "code",
   "execution_count": 6,
   "metadata": {},
   "outputs": [],
   "source": [
    "# Remove Id column\n",
    "df_cholesterol.drop(columns=['Id'], axis=1, inplace=True)"
   ]
  },
  {
   "cell_type": "code",
   "execution_count": 9,
   "metadata": {},
   "outputs": [],
   "source": [
    "# Rename columns\n",
    "df_cholesterol.columns = [\n",
    "  \"blood_type\",\n",
    "  \"smoker\",\n",
    "  \"activity_level\",\n",
    "  \"age\",\n",
    "  \"weight\",\n",
    "  \"height\",\n",
    "  \"cholesterol_level\"\n",
    "]"
   ]
  },
  {
   "cell_type": "code",
   "execution_count": 11,
   "metadata": {},
   "outputs": [],
   "source": [
    "# Copy DF to EDA DF\n",
    "df_cholesterol_eda =  df_cholesterol.copy()"
   ]
  },
  {
   "cell_type": "code",
   "execution_count": 12,
   "metadata": {},
   "outputs": [],
   "source": [
    "# Copy DF to Bucketing DF\n",
    "df_cholesterol_bucketing =  df_cholesterol.copy()"
   ]
  },
  {
   "cell_type": "markdown",
   "metadata": {},
   "source": [
    "### EDA"
   ]
  },
  {
   "cell_type": "code",
   "execution_count": 13,
   "metadata": {},
   "outputs": [
    {
     "data": {
      "text/html": [
       "<div>\n",
       "<style scoped>\n",
       "    .dataframe tbody tr th:only-of-type {\n",
       "        vertical-align: middle;\n",
       "    }\n",
       "\n",
       "    .dataframe tbody tr th {\n",
       "        vertical-align: top;\n",
       "    }\n",
       "\n",
       "    .dataframe thead th {\n",
       "        text-align: right;\n",
       "    }\n",
       "</style>\n",
       "<table border=\"1\" class=\"dataframe\">\n",
       "  <thead>\n",
       "    <tr style=\"text-align: right;\">\n",
       "      <th></th>\n",
       "      <th>blood_type</th>\n",
       "      <th>smoker</th>\n",
       "      <th>activity_level</th>\n",
       "      <th>age</th>\n",
       "      <th>weight</th>\n",
       "      <th>height</th>\n",
       "      <th>cholesterol_level</th>\n",
       "    </tr>\n",
       "  </thead>\n",
       "  <tbody>\n",
       "    <tr>\n",
       "      <th>0</th>\n",
       "      <td>B</td>\n",
       "      <td>Yes</td>\n",
       "      <td>Low</td>\n",
       "      <td>33.0</td>\n",
       "      <td>85.1</td>\n",
       "      <td>186.0</td>\n",
       "      <td>199.63</td>\n",
       "    </tr>\n",
       "    <tr>\n",
       "      <th>1</th>\n",
       "      <td>A</td>\n",
       "      <td>No</td>\n",
       "      <td>Moderate</td>\n",
       "      <td>68.0</td>\n",
       "      <td>105.0</td>\n",
       "      <td>184.0</td>\n",
       "      <td>236.98</td>\n",
       "    </tr>\n",
       "    <tr>\n",
       "      <th>2</th>\n",
       "      <td>O</td>\n",
       "      <td>No</td>\n",
       "      <td>High</td>\n",
       "      <td>25.0</td>\n",
       "      <td>64.8</td>\n",
       "      <td>180.0</td>\n",
       "      <td>161.79</td>\n",
       "    </tr>\n",
       "    <tr>\n",
       "      <th>3</th>\n",
       "      <td>A</td>\n",
       "      <td>No</td>\n",
       "      <td>High</td>\n",
       "      <td>43.0</td>\n",
       "      <td>120.2</td>\n",
       "      <td>167.0</td>\n",
       "      <td>336.24</td>\n",
       "    </tr>\n",
       "    <tr>\n",
       "      <th>4</th>\n",
       "      <td>AB</td>\n",
       "      <td>No</td>\n",
       "      <td>Low</td>\n",
       "      <td>79.0</td>\n",
       "      <td>88.5</td>\n",
       "      <td>175.0</td>\n",
       "      <td>226.23</td>\n",
       "    </tr>\n",
       "    <tr>\n",
       "      <th>5</th>\n",
       "      <td>B</td>\n",
       "      <td>No</td>\n",
       "      <td>Low</td>\n",
       "      <td>68.0</td>\n",
       "      <td>66.8</td>\n",
       "      <td>170.0</td>\n",
       "      <td>185.31</td>\n",
       "    </tr>\n",
       "    <tr>\n",
       "      <th>6</th>\n",
       "      <td>A</td>\n",
       "      <td>Yes</td>\n",
       "      <td>Low</td>\n",
       "      <td>60.0</td>\n",
       "      <td>117.3</td>\n",
       "      <td>181.0</td>\n",
       "      <td>289.33</td>\n",
       "    </tr>\n",
       "    <tr>\n",
       "      <th>7</th>\n",
       "      <td>O</td>\n",
       "      <td>Yes</td>\n",
       "      <td>Moderate</td>\n",
       "      <td>35.0</td>\n",
       "      <td>86.9</td>\n",
       "      <td>174.0</td>\n",
       "      <td>216.48</td>\n",
       "    </tr>\n",
       "    <tr>\n",
       "      <th>8</th>\n",
       "      <td>O</td>\n",
       "      <td>No</td>\n",
       "      <td>Low</td>\n",
       "      <td>62.0</td>\n",
       "      <td>81.3</td>\n",
       "      <td>166.0</td>\n",
       "      <td>235.30</td>\n",
       "    </tr>\n",
       "    <tr>\n",
       "      <th>9</th>\n",
       "      <td>B</td>\n",
       "      <td>Yes</td>\n",
       "      <td>High</td>\n",
       "      <td>44.0</td>\n",
       "      <td>32.7</td>\n",
       "      <td>165.0</td>\n",
       "      <td>97.79</td>\n",
       "    </tr>\n",
       "  </tbody>\n",
       "</table>\n",
       "</div>"
      ],
      "text/plain": [
       "  blood_type smoker activity_level   age  weight  height  cholesterol_level\n",
       "0          B    Yes            Low  33.0    85.1   186.0             199.63\n",
       "1          A     No       Moderate  68.0   105.0   184.0             236.98\n",
       "2          O     No           High  25.0    64.8   180.0             161.79\n",
       "3          A     No           High  43.0   120.2   167.0             336.24\n",
       "4         AB     No            Low  79.0    88.5   175.0             226.23\n",
       "5          B     No            Low  68.0    66.8   170.0             185.31\n",
       "6          A    Yes            Low  60.0   117.3   181.0             289.33\n",
       "7          O    Yes       Moderate  35.0    86.9   174.0             216.48\n",
       "8          O     No            Low  62.0    81.3   166.0             235.30\n",
       "9          B    Yes           High  44.0    32.7   165.0              97.79"
      ]
     },
     "execution_count": 13,
     "metadata": {},
     "output_type": "execute_result"
    }
   ],
   "source": [
    "# Visualize data\n",
    "df_cholesterol_eda.head(10)"
   ]
  },
  {
   "cell_type": "code",
   "execution_count": 16,
   "metadata": {},
   "outputs": [
    {
     "data": {
      "text/plain": [
       "array(['Low', 'Moderate', 'High', nan], dtype=object)"
      ]
     },
     "execution_count": 16,
     "metadata": {},
     "output_type": "execute_result"
    }
   ],
   "source": [
    "df_cholesterol_eda.activity_level.unique()"
   ]
  },
  {
   "cell_type": "code",
   "execution_count": 28,
   "metadata": {},
   "outputs": [
    {
     "data": {
      "text/plain": [
       "blood_type           0\n",
       "smoker               0\n",
       "activity_level       0\n",
       "age                  0\n",
       "weight               0\n",
       "height               0\n",
       "cholesterol_level    0\n",
       "dtype: int64"
      ]
     },
     "execution_count": 28,
     "metadata": {},
     "output_type": "execute_result"
    }
   ],
   "source": [
    "df_cholesterol_eda.isna().sum()"
   ]
  },
  {
   "cell_type": "code",
   "execution_count": 18,
   "metadata": {},
   "outputs": [
    {
     "data": {
      "text/html": [
       "<div>\n",
       "<style scoped>\n",
       "    .dataframe tbody tr th:only-of-type {\n",
       "        vertical-align: middle;\n",
       "    }\n",
       "\n",
       "    .dataframe tbody tr th {\n",
       "        vertical-align: top;\n",
       "    }\n",
       "\n",
       "    .dataframe thead th {\n",
       "        text-align: right;\n",
       "    }\n",
       "</style>\n",
       "<table border=\"1\" class=\"dataframe\">\n",
       "  <thead>\n",
       "    <tr style=\"text-align: right;\">\n",
       "      <th></th>\n",
       "      <th>age</th>\n",
       "      <th>weight</th>\n",
       "      <th>height</th>\n",
       "      <th>cholesterol_level</th>\n",
       "    </tr>\n",
       "  </thead>\n",
       "  <tbody>\n",
       "    <tr>\n",
       "      <th>count</th>\n",
       "      <td>997.000000</td>\n",
       "      <td>997.000000</td>\n",
       "      <td>997.000000</td>\n",
       "      <td>1000.000000</td>\n",
       "    </tr>\n",
       "    <tr>\n",
       "      <th>mean</th>\n",
       "      <td>49.206620</td>\n",
       "      <td>76.496690</td>\n",
       "      <td>174.889669</td>\n",
       "      <td>199.453260</td>\n",
       "    </tr>\n",
       "    <tr>\n",
       "      <th>std</th>\n",
       "      <td>17.476704</td>\n",
       "      <td>21.439132</td>\n",
       "      <td>8.844703</td>\n",
       "      <td>50.625152</td>\n",
       "    </tr>\n",
       "    <tr>\n",
       "      <th>min</th>\n",
       "      <td>20.000000</td>\n",
       "      <td>15.400000</td>\n",
       "      <td>160.000000</td>\n",
       "      <td>36.260000</td>\n",
       "    </tr>\n",
       "    <tr>\n",
       "      <th>25%</th>\n",
       "      <td>34.000000</td>\n",
       "      <td>61.700000</td>\n",
       "      <td>167.000000</td>\n",
       "      <td>166.345000</td>\n",
       "    </tr>\n",
       "    <tr>\n",
       "      <th>50%</th>\n",
       "      <td>49.000000</td>\n",
       "      <td>75.500000</td>\n",
       "      <td>175.000000</td>\n",
       "      <td>199.455000</td>\n",
       "    </tr>\n",
       "    <tr>\n",
       "      <th>75%</th>\n",
       "      <td>65.000000</td>\n",
       "      <td>90.200000</td>\n",
       "      <td>183.000000</td>\n",
       "      <td>233.785000</td>\n",
       "    </tr>\n",
       "    <tr>\n",
       "      <th>max</th>\n",
       "      <td>79.000000</td>\n",
       "      <td>158.100000</td>\n",
       "      <td>190.000000</td>\n",
       "      <td>372.670000</td>\n",
       "    </tr>\n",
       "  </tbody>\n",
       "</table>\n",
       "</div>"
      ],
      "text/plain": [
       "              age      weight      height  cholesterol_level\n",
       "count  997.000000  997.000000  997.000000        1000.000000\n",
       "mean    49.206620   76.496690  174.889669         199.453260\n",
       "std     17.476704   21.439132    8.844703          50.625152\n",
       "min     20.000000   15.400000  160.000000          36.260000\n",
       "25%     34.000000   61.700000  167.000000         166.345000\n",
       "50%     49.000000   75.500000  175.000000         199.455000\n",
       "75%     65.000000   90.200000  183.000000         233.785000\n",
       "max     79.000000  158.100000  190.000000         372.670000"
      ]
     },
     "execution_count": 18,
     "metadata": {},
     "output_type": "execute_result"
    }
   ],
   "source": [
    "# Metrics of the DF\n",
    "df_cholesterol_eda.describe()"
   ]
  },
  {
   "cell_type": "code",
   "execution_count": 19,
   "metadata": {},
   "outputs": [],
   "source": [
    "# Collect metrics from categorical variables\n",
    "mode_blood_type = df_cholesterol_eda.blood_type.mode()\n",
    "mode_smoker = df_cholesterol_eda.smoker.mode()\n",
    "mode_activity_level = df_cholesterol_eda.activity_level.mode()"
   ]
  },
  {
   "cell_type": "code",
   "execution_count": 20,
   "metadata": {},
   "outputs": [],
   "source": [
    "# Collect metrics from numeric variables\n",
    "median_age = df_cholesterol_eda.age.median()\n",
    "median_weight = df_cholesterol_eda.weight.median()\n",
    "median_height = df_cholesterol_eda.height.median()"
   ]
  },
  {
   "cell_type": "code",
   "execution_count": 27,
   "metadata": {},
   "outputs": [],
   "source": [
    "# Input missing values\n",
    "df_cholesterol_eda.fillna(value={'blood_type': mode_blood_type[0],\n",
    "                                 'smoker': mode_smoker[0],\n",
    "                                 'activity_level': mode_activity_level[0],\n",
    "                                 'age': median_age,\n",
    "                                 'weight': median_weight,\n",
    "                                 'height': median_height,\n",
    "                                 }, inplace=True)"
   ]
  },
  {
   "cell_type": "code",
   "execution_count": 29,
   "metadata": {},
   "outputs": [],
   "source": [
    "# Convert age and height to integer\n",
    "df_cholesterol_eda.age = df_cholesterol_eda.age.astype(int)\n",
    "df_cholesterol_eda.height = df_cholesterol_eda.height.astype(int)"
   ]
  },
  {
   "cell_type": "code",
   "execution_count": 38,
   "metadata": {},
   "outputs": [
    {
     "name": "stdout",
     "output_type": "stream",
     "text": [
      "<class 'pandas.core.frame.DataFrame'>\n",
      "Index: 963 entries, 0 to 999\n",
      "Data columns (total 7 columns):\n",
      " #   Column             Non-Null Count  Dtype  \n",
      "---  ------             --------------  -----  \n",
      " 0   blood_type         963 non-null    object \n",
      " 1   smoker             963 non-null    object \n",
      " 2   activity_level     963 non-null    object \n",
      " 3   age                963 non-null    int64  \n",
      " 4   weight             963 non-null    float64\n",
      " 5   height             963 non-null    int64  \n",
      " 6   cholesterol_level  963 non-null    float64\n",
      "dtypes: float64(2), int64(2), object(3)\n",
      "memory usage: 60.2+ KB\n"
     ]
    }
   ],
   "source": [
    "# Dataframe structure\n",
    "df_cholesterol_eda.info()"
   ]
  },
  {
   "cell_type": "code",
   "execution_count": 31,
   "metadata": {},
   "outputs": [
    {
     "data": {
      "text/html": [
       "<div>\n",
       "<style scoped>\n",
       "    .dataframe tbody tr th:only-of-type {\n",
       "        vertical-align: middle;\n",
       "    }\n",
       "\n",
       "    .dataframe tbody tr th {\n",
       "        vertical-align: top;\n",
       "    }\n",
       "\n",
       "    .dataframe thead th {\n",
       "        text-align: right;\n",
       "    }\n",
       "</style>\n",
       "<table border=\"1\" class=\"dataframe\">\n",
       "  <thead>\n",
       "    <tr style=\"text-align: right;\">\n",
       "      <th></th>\n",
       "      <th>blood_type</th>\n",
       "      <th>smoker</th>\n",
       "      <th>activity_level</th>\n",
       "      <th>age</th>\n",
       "      <th>weight</th>\n",
       "      <th>height</th>\n",
       "      <th>cholesterol_level</th>\n",
       "    </tr>\n",
       "  </thead>\n",
       "  <tbody>\n",
       "    <tr>\n",
       "      <th>0</th>\n",
       "      <td>B</td>\n",
       "      <td>Yes</td>\n",
       "      <td>Low</td>\n",
       "      <td>33</td>\n",
       "      <td>85.1</td>\n",
       "      <td>186</td>\n",
       "      <td>199.63</td>\n",
       "    </tr>\n",
       "    <tr>\n",
       "      <th>1</th>\n",
       "      <td>A</td>\n",
       "      <td>No</td>\n",
       "      <td>Moderate</td>\n",
       "      <td>68</td>\n",
       "      <td>105.0</td>\n",
       "      <td>184</td>\n",
       "      <td>236.98</td>\n",
       "    </tr>\n",
       "    <tr>\n",
       "      <th>2</th>\n",
       "      <td>O</td>\n",
       "      <td>No</td>\n",
       "      <td>High</td>\n",
       "      <td>25</td>\n",
       "      <td>64.8</td>\n",
       "      <td>180</td>\n",
       "      <td>161.79</td>\n",
       "    </tr>\n",
       "    <tr>\n",
       "      <th>3</th>\n",
       "      <td>A</td>\n",
       "      <td>No</td>\n",
       "      <td>High</td>\n",
       "      <td>43</td>\n",
       "      <td>120.2</td>\n",
       "      <td>167</td>\n",
       "      <td>336.24</td>\n",
       "    </tr>\n",
       "    <tr>\n",
       "      <th>4</th>\n",
       "      <td>AB</td>\n",
       "      <td>No</td>\n",
       "      <td>Low</td>\n",
       "      <td>79</td>\n",
       "      <td>88.5</td>\n",
       "      <td>175</td>\n",
       "      <td>226.23</td>\n",
       "    </tr>\n",
       "    <tr>\n",
       "      <th>5</th>\n",
       "      <td>B</td>\n",
       "      <td>No</td>\n",
       "      <td>Low</td>\n",
       "      <td>68</td>\n",
       "      <td>66.8</td>\n",
       "      <td>170</td>\n",
       "      <td>185.31</td>\n",
       "    </tr>\n",
       "    <tr>\n",
       "      <th>6</th>\n",
       "      <td>A</td>\n",
       "      <td>Yes</td>\n",
       "      <td>Low</td>\n",
       "      <td>60</td>\n",
       "      <td>117.3</td>\n",
       "      <td>181</td>\n",
       "      <td>289.33</td>\n",
       "    </tr>\n",
       "    <tr>\n",
       "      <th>7</th>\n",
       "      <td>O</td>\n",
       "      <td>Yes</td>\n",
       "      <td>Moderate</td>\n",
       "      <td>35</td>\n",
       "      <td>86.9</td>\n",
       "      <td>174</td>\n",
       "      <td>216.48</td>\n",
       "    </tr>\n",
       "    <tr>\n",
       "      <th>8</th>\n",
       "      <td>O</td>\n",
       "      <td>No</td>\n",
       "      <td>Low</td>\n",
       "      <td>62</td>\n",
       "      <td>81.3</td>\n",
       "      <td>166</td>\n",
       "      <td>235.30</td>\n",
       "    </tr>\n",
       "    <tr>\n",
       "      <th>9</th>\n",
       "      <td>B</td>\n",
       "      <td>Yes</td>\n",
       "      <td>High</td>\n",
       "      <td>44</td>\n",
       "      <td>32.7</td>\n",
       "      <td>165</td>\n",
       "      <td>97.79</td>\n",
       "    </tr>\n",
       "  </tbody>\n",
       "</table>\n",
       "</div>"
      ],
      "text/plain": [
       "  blood_type smoker activity_level  age  weight  height  cholesterol_level\n",
       "0          B    Yes            Low   33    85.1     186             199.63\n",
       "1          A     No       Moderate   68   105.0     184             236.98\n",
       "2          O     No           High   25    64.8     180             161.79\n",
       "3          A     No           High   43   120.2     167             336.24\n",
       "4         AB     No            Low   79    88.5     175             226.23\n",
       "5          B     No            Low   68    66.8     170             185.31\n",
       "6          A    Yes            Low   60   117.3     181             289.33\n",
       "7          O    Yes       Moderate   35    86.9     174             216.48\n",
       "8          O     No            Low   62    81.3     166             235.30\n",
       "9          B    Yes           High   44    32.7     165              97.79"
      ]
     },
     "execution_count": 31,
     "metadata": {},
     "output_type": "execute_result"
    }
   ],
   "source": [
    "# Visualize data\n",
    "df_cholesterol_eda.head(10)"
   ]
  },
  {
   "cell_type": "code",
   "execution_count": null,
   "metadata": {},
   "outputs": [
    {
     "data": {
      "text/plain": [
       "<Axes: xlabel='age'>"
      ]
     },
     "execution_count": 32,
     "metadata": {},
     "output_type": "execute_result"
    },
    {
     "data": {
      "image/png": "[encoded data removed]",
      "text/plain": [
       "<Figure size 640x480 with 1 Axes>"
      ]
     },
     "metadata": {},
     "output_type": "display_data"
    }
   ],
   "source": [
    "# Verify / detect age outliers\n",
    "sns.boxplot(data=df_cholesterol_eda, x='age')"
   ]
  },
  {
   "cell_type": "code",
   "execution_count": 39,
   "metadata": {},
   "outputs": [
    {
     "data": {
      "text/plain": [
       "<Axes: xlabel='weight'>"
      ]
     },
     "execution_count": 39,
     "metadata": {},
     "output_type": "execute_result"
    },
    {
     "data": {
      "image/png": "[encoded data removed]",
      "text/plain": [
       "<Figure size 640x480 with 1 Axes>"
      ]
     },
     "metadata": {},
     "output_type": "display_data"
    }
   ],
   "source": [
    "# Verify / detect weight outliers\n",
    "sns.boxplot(data=df_cholesterol_eda, x='weight')"
   ]
  },
  {
   "cell_type": "code",
   "execution_count": 35,
   "metadata": {},
   "outputs": [
    {
     "data": {
      "text/plain": [
       "np.int64(37)"
      ]
     },
     "execution_count": 35,
     "metadata": {},
     "output_type": "execute_result"
    }
   ],
   "source": [
    "# Filter public to be removed\n",
    "df_cholesterol_eda[df_cholesterol_eda['weight'] < 40].weight.count()"
   ]
  },
  {
   "cell_type": "code",
   "execution_count": 37,
   "metadata": {},
   "outputs": [],
   "source": [
    "# Remove public\n",
    "df_cholesterol_eda.drop(df_cholesterol_eda[df_cholesterol_eda['weight'] < 40].index, axis=0, inplace=True)"
   ]
  },
  {
   "cell_type": "code",
   "execution_count": 40,
   "metadata": {},
   "outputs": [
    {
     "data": {
      "text/plain": [
       "<Axes: xlabel='height'>"
      ]
     },
     "execution_count": 40,
     "metadata": {},
     "output_type": "execute_result"
    },
    {
     "data": {
      "image/png": "[encoded data removed]",
      "text/plain": [
       "<Figure size 640x480 with 1 Axes>"
      ]
     },
     "metadata": {},
     "output_type": "display_data"
    }
   ],
   "source": [
    "# Verify / detect height outliers\n",
    "sns.boxplot(data=df_cholesterol_eda, x='height')"
   ]
  },
  {
   "cell_type": "code",
   "execution_count": 41,
   "metadata": {},
   "outputs": [
    {
     "data": {
      "text/plain": [
       "<Axes: xlabel='cholesterol_level'>"
      ]
     },
     "execution_count": 41,
     "metadata": {},
     "output_type": "execute_result"
    },
    {
     "data": {
      "image/png": "[encoded data removed]",
      "text/plain": [
       "<Figure size 640x480 with 1 Axes>"
      ]
     },
     "metadata": {},
     "output_type": "display_data"
    }
   ],
   "source": [
    "# Verify / detect cholesterol_level outliers\n",
    "sns.boxplot(data=df_cholesterol_eda, x='cholesterol_level')"
   ]
  },
  {
   "cell_type": "code",
   "execution_count": null,
   "metadata": {},
   "outputs": [
    {
     "data": {
      "text/plain": [
       "<Axes: xlabel='blood_type', ylabel='cholesterol_level'>"
      ]
     },
     "execution_count": 42,
     "metadata": {},
     "output_type": "execute_result"
    },
    {
     "data": {
      "image/png": "[encoded data removed]",
      "text/plain": [
       "<Figure size 640x480 with 1 Axes>"
      ]
     },
     "metadata": {},
     "output_type": "display_data"
    }
   ],
   "source": [
    "# Categorical variables (Blood Type) X Cholesterol Level\n",
    "sns.boxplot(data=df_cholesterol_eda, x='blood_type', y='cholesterol_level')"
   ]
  },
  {
   "cell_type": "code",
   "execution_count": 43,
   "metadata": {},
   "outputs": [
    {
     "data": {
      "text/plain": [
       "<Axes: xlabel='smoker', ylabel='cholesterol_level'>"
      ]
     },
     "execution_count": 43,
     "metadata": {},
     "output_type": "execute_result"
    },
    {
     "data": {
      "image/png": "[encoded data removed]",
      "text/plain": [
       "<Figure size 640x480 with 1 Axes>"
      ]
     },
     "metadata": {},
     "output_type": "display_data"
    }
   ],
   "source": [
    "# Categorical variables (Smoker) X Cholesterol Level\n",
    "sns.boxplot(data=df_cholesterol_eda, x='smoker', y='cholesterol_level')"
   ]
  },
  {
   "cell_type": "code",
   "execution_count": 44,
   "metadata": {},
   "outputs": [
    {
     "data": {
      "text/plain": [
       "<Axes: xlabel='activity_level', ylabel='cholesterol_level'>"
      ]
     },
     "execution_count": 44,
     "metadata": {},
     "output_type": "execute_result"
    },
    {
     "data": {
      "image/png": "[encoded data removed]",
      "text/plain": [
       "<Figure size 640x480 with 1 Axes>"
      ]
     },
     "metadata": {},
     "output_type": "display_data"
    }
   ],
   "source": [
    "# Categorical variables (Activity Level) X Cholesterol Level\n",
    "sns.boxplot(data=df_cholesterol_eda, x='activity_level', y='cholesterol_level')"
   ]
  },
  {
   "cell_type": "code",
   "execution_count": null,
   "metadata": {},
   "outputs": [],
   "source": []
  }
 ],
 "metadata": {
  "kernelspec": {
   "display_name": ".venv",
   "language": "python",
   "name": "python3"
  },
  "language_info": {
   "codemirror_mode": {
    "name": "ipython",
    "version": 3
   },
   "file_extension": ".py",
   "mimetype": "text/x-python",
   "name": "python",
   "nbconvert_exporter": "python",
   "pygments_lexer": "ipython3",
   "version": "3.11.3"
  }
 },
 "nbformat": 4,
 "nbformat_minor": 2
}
