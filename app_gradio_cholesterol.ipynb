{
 "cells": [
  {
   "cell_type": "code",
   "execution_count": 1,
   "metadata": {},
   "outputs": [
    {
     "name": "stderr",
     "output_type": "stream",
     "text": [
      "/Users/arthurrios/Desktop/ARTHUR/Coding/Rocketseat/Ignite/AI/multiple-linear-regression/.venv/lib/python3.11/site-packages/tqdm/auto.py:21: TqdmWarning: IProgress not found. Please update jupyter and ipywidgets. See https://ipywidgets.readthedocs.io/en/stable/user_install.html\n",
      "  from .autonotebook import tqdm as notebook_tqdm\n"
     ]
    }
   ],
   "source": [
    "import gradio as gr\n",
    "import joblib\n",
    "import pandas as pd"
   ]
  },
  {
   "cell_type": "code",
   "execution_count": 2,
   "metadata": {},
   "outputs": [],
   "source": [
    "model = joblib.load('./cholesterol_model.pkl')"
   ]
  },
  {
   "cell_type": "code",
   "execution_count": 4,
   "metadata": {},
   "outputs": [],
   "source": [
    "def predict(blood_type, smoker, activity_level, age, weight, height):\n",
    "  individual_prediction = {\n",
    "    'blood_type': blood_type,\n",
    "    'smoker': smoker,\n",
    "    'activity_level': activity_level,\n",
    "    'age': age,\n",
    "    'weight': weight,\n",
    "    'height': height\n",
    "  }\n",
    "  predict_df = pd.DataFrame(individual_prediction, index=[1])\n",
    "  cholesterol = model.predict(predict_df)\n",
    "  return cholesterol.reshape(-1)"
   ]
  },
  {
   "cell_type": "code",
   "execution_count": 5,
   "metadata": {},
   "outputs": [],
   "source": [
    "demo = gr.Interface(\n",
    "  fn=predict,\n",
    "  inputs=[\n",
    "    gr.Radio(['O', 'A', 'B', 'AB']),\n",
    "    'checkbox',\n",
    "    gr.Radio(['Low', 'Moderate', 'High']),\n",
    "    gr.Slider(20, 80, step=1),\n",
    "    gr.Slider(40, 160, step=1),\n",
    "    gr.Slider(150, 200, step=1)\n",
    "  ],\n",
    "  outputs=['number']\n",
    ")"
   ]
  }
 ],
 "metadata": {
  "kernelspec": {
   "display_name": ".venv",
   "language": "python",
   "name": "python3"
  },
  "language_info": {
   "codemirror_mode": {
    "name": "ipython",
    "version": 3
   },
   "file_extension": ".py",
   "mimetype": "text/x-python",
   "name": "python",
   "nbconvert_exporter": "python",
   "pygments_lexer": "ipython3",
   "version": "3.11.3"
  }
 },
 "nbformat": 4,
 "nbformat_minor": 2
}
